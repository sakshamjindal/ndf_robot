{
  "cells": [
    {
      "cell_type": "code",
      "execution_count": 2,
      "metadata": {
        "colab": {
          "base_uri": "https://localhost:8080/"
        },
        "id": "s9G0_A_ibp1A",
        "outputId": "a77efeaa-51b1-43bc-e198-a2f897de33e7"
      },
      "outputs": [],
      "source": [
        "import sys\n",
        "import os\n",
        "sys.path.append('./src/occ_net')\n",
        "sys.path.append('./src/')"
      ]
    },
    {
      "cell_type": "markdown",
      "metadata": {
        "id": "mMY-e1_swq2q"
      },
      "source": [
        "We then import all the necessary packages and library functions"
      ]
    },
    {
      "cell_type": "code",
      "execution_count": 3,
      "metadata": {
        "id": "5Y6-rdqDc-P3"
      },
      "outputs": [],
      "source": [
        "import os.path as osp\n",
        "import torch\n",
        "import numpy as np\n",
        "import trimesh\n",
        "import random\n",
        "import copy\n",
        "from scipy.spatial.transform import Rotation\n",
        "from imageio import get_writer, imread\n",
        "\n",
        "from ndf_robot.utils import path_util, torch_util, trimesh_util\n",
        "import ndf_robot.model.vnn_occupancy_net_pointnet_dgcnn as vnn_occupancy_network\n",
        "from ndf_robot.eval.ndf_alignment import NDFAlignmentCheck"
      ]
    },
    {
      "attachments": {},
      "cell_type": "markdown",
      "metadata": {},
      "source": [
        "## Check occupancy network meshes"
      ]
    },
    {
      "cell_type": "code",
      "execution_count": 4,
      "metadata": {},
      "outputs": [],
      "source": [
        "from torch.utils.data import DataLoader\n",
        "from ndf_robot.training.acid_dataset import AcidDataset\n",
        "root_dir = \"/home/sjindal/work/ACID/data_ndf\"\n",
        "category = [\"teddy\"]\n",
        "\n",
        "train_dataset = AcidDataset(root_dir, \"train\", category, transform=True, all_points=False)\n",
        "val_dataset = AcidDataset(root_dir, \"val\", category, transform=False, all_points=False)\n",
        "\n",
        "train_dataloader = DataLoader(train_dataset, batch_size=1, shuffle=True,\n",
        "                              drop_last=True, num_workers=6)\n",
        "val_dataloader = DataLoader(val_dataset, batch_size=1, shuffle=True,\n",
        "                            drop_last=True, num_workers=4)"
      ]
    },
    {
      "cell_type": "code",
      "execution_count": 5,
      "metadata": {},
      "outputs": [],
      "source": [
        "model = vnn_occupancy_network.VNNOccNet(latent_dim=256, model_type='pointnet', return_features=True, sigmoid=True).cuda()\n",
        "model_path = \"logs/ndf_training_exp/checkpoints/model_current.pth\"\n",
        "model.load_state_dict(torch.load(model_path))\n",
        "model.eval();"
      ]
    },
    {
      "cell_type": "code",
      "execution_count": 6,
      "metadata": {},
      "outputs": [],
      "source": [
        "model_input, gt_occ = next(iter(train_dataloader))\n",
        "model_input[\"point_cloud\"] = model_input[\"point_cloud\"].cuda()\n",
        "model_input[\"coords\"] = model_input[\"coords\"].cuda()\n",
        "gt_occ[\"occ\"] = gt_occ[\"occ\"].cuda()"
      ]
    },
    {
      "attachments": {},
      "cell_type": "markdown",
      "metadata": {},
      "source": [
        "## Create a mesh"
      ]
    },
    {
      "cell_type": "code",
      "execution_count": 10,
      "metadata": {},
      "outputs": [
        {
          "name": "stderr",
          "output_type": "stream",
          "text": [
            "./src/occ_net/im2mesh/utils/binvox_rw.py:214: FutureWarning: In the future `np.bool` will be defined as the corresponding NumPy scalar.\n",
            "  def sparse_to_dense(voxel_data, dims, dtype=np.bool):\n"
          ]
        },
        {
          "ename": "AttributeError",
          "evalue": "module 'numpy' has no attribute 'bool'.\n`np.bool` was a deprecated alias for the builtin `bool`. To avoid this error in existing code, use `bool` by itself. Doing this will not modify any behavior and is safe. If you specifically wanted the numpy scalar type, use `np.bool_` here.\nThe aliases was originally deprecated in NumPy 1.20; for more details and guidance see the original release note at:\n    https://numpy.org/devdocs/release/1.20.0-notes.html#deprecations",
          "output_type": "error",
          "traceback": [
            "\u001b[0;31m---------------------------------------------------------------------------\u001b[0m",
            "\u001b[0;31mAttributeError\u001b[0m                            Traceback (most recent call last)",
            "Cell \u001b[0;32mIn[10], line 10\u001b[0m\n\u001b[1;32m      8\u001b[0m \u001b[39mfrom\u001b[39;00m \u001b[39mcollections\u001b[39;00m \u001b[39mimport\u001b[39;00m defaultdict\n\u001b[1;32m      9\u001b[0m \u001b[39mimport\u001b[39;00m \u001b[39mpandas\u001b[39;00m \u001b[39mas\u001b[39;00m \u001b[39mpd\u001b[39;00m\n\u001b[0;32m---> 10\u001b[0m \u001b[39mfrom\u001b[39;00m \u001b[39mim2mesh\u001b[39;00m \u001b[39mimport\u001b[39;00m config\n\u001b[1;32m     11\u001b[0m \u001b[39mfrom\u001b[39;00m \u001b[39mim2mesh\u001b[39;00m\u001b[39m.\u001b[39;00m\u001b[39mcheckpoints\u001b[39;00m \u001b[39mimport\u001b[39;00m CheckpointIO\n\u001b[1;32m     12\u001b[0m \u001b[39mfrom\u001b[39;00m \u001b[39mim2mesh\u001b[39;00m\u001b[39m.\u001b[39;00m\u001b[39mutils\u001b[39;00m\u001b[39m.\u001b[39;00m\u001b[39mio\u001b[39;00m \u001b[39mimport\u001b[39;00m export_pointcloud\n",
            "File \u001b[0;32m~/work/ndf_robot/src/occ_net/im2mesh/config.py:3\u001b[0m\n\u001b[1;32m      1\u001b[0m \u001b[39mimport\u001b[39;00m \u001b[39myaml\u001b[39;00m\n\u001b[1;32m      2\u001b[0m \u001b[39mfrom\u001b[39;00m \u001b[39mtorchvision\u001b[39;00m \u001b[39mimport\u001b[39;00m transforms\n\u001b[0;32m----> 3\u001b[0m \u001b[39mfrom\u001b[39;00m \u001b[39mim2mesh\u001b[39;00m \u001b[39mimport\u001b[39;00m data\n\u001b[1;32m      4\u001b[0m \u001b[39mfrom\u001b[39;00m \u001b[39mim2mesh\u001b[39;00m \u001b[39mimport\u001b[39;00m onet, r2n2, psgn, pix2mesh, dmc\n\u001b[1;32m      5\u001b[0m \u001b[39mfrom\u001b[39;00m \u001b[39mim2mesh\u001b[39;00m \u001b[39mimport\u001b[39;00m preprocess\n",
            "File \u001b[0;32m~/work/ndf_robot/src/occ_net/im2mesh/data/__init__.py:5\u001b[0m\n\u001b[1;32m      2\u001b[0m \u001b[39mfrom\u001b[39;00m \u001b[39mim2mesh\u001b[39;00m\u001b[39m.\u001b[39;00m\u001b[39mdata\u001b[39;00m\u001b[39m.\u001b[39;00m\u001b[39mcore\u001b[39;00m \u001b[39mimport\u001b[39;00m (\n\u001b[1;32m      3\u001b[0m     Shapes3dDataset, collate_remove_none, worker_init_fn\n\u001b[1;32m      4\u001b[0m )\n\u001b[0;32m----> 5\u001b[0m \u001b[39mfrom\u001b[39;00m \u001b[39mim2mesh\u001b[39;00m\u001b[39m.\u001b[39;00m\u001b[39mdata\u001b[39;00m\u001b[39m.\u001b[39;00m\u001b[39mfields\u001b[39;00m \u001b[39mimport\u001b[39;00m (\n\u001b[1;32m      6\u001b[0m     IndexField, CategoryField, ImagesField, PointsField,\n\u001b[1;32m      7\u001b[0m     VoxelsField, PointCloudField, MeshField,\n\u001b[1;32m      8\u001b[0m )\n\u001b[1;32m      9\u001b[0m \u001b[39mfrom\u001b[39;00m \u001b[39mim2mesh\u001b[39;00m\u001b[39m.\u001b[39;00m\u001b[39mdata\u001b[39;00m\u001b[39m.\u001b[39;00m\u001b[39mtransforms\u001b[39;00m \u001b[39mimport\u001b[39;00m (\n\u001b[1;32m     10\u001b[0m     PointcloudNoise, SubsamplePointcloud,\n\u001b[1;32m     11\u001b[0m     SubsamplePoints\n\u001b[1;32m     12\u001b[0m )\n\u001b[1;32m     13\u001b[0m \u001b[39mfrom\u001b[39;00m \u001b[39mim2mesh\u001b[39;00m\u001b[39m.\u001b[39;00m\u001b[39mdata\u001b[39;00m\u001b[39m.\u001b[39;00m\u001b[39mreal\u001b[39;00m \u001b[39mimport\u001b[39;00m (\n\u001b[1;32m     14\u001b[0m     KittiDataset, OnlineProductDataset,\n\u001b[1;32m     15\u001b[0m     ImageDataset,\n\u001b[1;32m     16\u001b[0m )\n",
            "File \u001b[0;32m~/work/ndf_robot/src/occ_net/im2mesh/data/fields.py:8\u001b[0m\n\u001b[1;32m      6\u001b[0m \u001b[39mimport\u001b[39;00m \u001b[39mtrimesh\u001b[39;00m\n\u001b[1;32m      7\u001b[0m \u001b[39mfrom\u001b[39;00m \u001b[39mim2mesh\u001b[39;00m\u001b[39m.\u001b[39;00m\u001b[39mdata\u001b[39;00m\u001b[39m.\u001b[39;00m\u001b[39mcore\u001b[39;00m \u001b[39mimport\u001b[39;00m Field\n\u001b[0;32m----> 8\u001b[0m \u001b[39mfrom\u001b[39;00m \u001b[39mim2mesh\u001b[39;00m\u001b[39m.\u001b[39;00m\u001b[39mutils\u001b[39;00m \u001b[39mimport\u001b[39;00m binvox_rw\n\u001b[1;32m     11\u001b[0m \u001b[39mclass\u001b[39;00m \u001b[39mIndexField\u001b[39;00m(Field):\n\u001b[1;32m     12\u001b[0m \u001b[39m    \u001b[39m\u001b[39m''' Basic index field.'''\u001b[39;00m\n",
            "File \u001b[0;32m~/work/ndf_robot/src/occ_net/im2mesh/utils/binvox_rw.py:214\u001b[0m\n\u001b[1;32m    211\u001b[0m         \u001b[39mraise\u001b[39;00m \u001b[39mValueError\u001b[39;00m(\u001b[39m'\u001b[39m\u001b[39mvoxel_data is wrong shape; should be 3D array.\u001b[39m\u001b[39m'\u001b[39m)\n\u001b[1;32m    212\u001b[0m     \u001b[39mreturn\u001b[39;00m np\u001b[39m.\u001b[39masarray(np\u001b[39m.\u001b[39mnonzero(voxel_data), dtype)\n\u001b[0;32m--> 214\u001b[0m \u001b[39mdef\u001b[39;00m \u001b[39msparse_to_dense\u001b[39m(voxel_data, dims, dtype\u001b[39m=\u001b[39mnp\u001b[39m.\u001b[39;49mbool):\n\u001b[1;32m    215\u001b[0m     \u001b[39mif\u001b[39;00m voxel_data\u001b[39m.\u001b[39mndim\u001b[39m!=\u001b[39m\u001b[39m2\u001b[39m \u001b[39mor\u001b[39;00m voxel_data\u001b[39m.\u001b[39mshape[\u001b[39m0\u001b[39m]\u001b[39m!=\u001b[39m\u001b[39m3\u001b[39m:\n\u001b[1;32m    216\u001b[0m         \u001b[39mraise\u001b[39;00m \u001b[39mValueError\u001b[39;00m(\u001b[39m'\u001b[39m\u001b[39mvoxel_data is wrong shape; should be 3xN array.\u001b[39m\u001b[39m'\u001b[39m)\n",
            "File \u001b[0;32m~/miniconda3/envs/ndf/lib/python3.9/site-packages/numpy/__init__.py:305\u001b[0m, in \u001b[0;36m__getattr__\u001b[0;34m(attr)\u001b[0m\n\u001b[1;32m    300\u001b[0m     warnings\u001b[39m.\u001b[39mwarn(\n\u001b[1;32m    301\u001b[0m         \u001b[39mf\u001b[39m\u001b[39m\"\u001b[39m\u001b[39mIn the future `np.\u001b[39m\u001b[39m{\u001b[39;00mattr\u001b[39m}\u001b[39;00m\u001b[39m` will be defined as the \u001b[39m\u001b[39m\"\u001b[39m\n\u001b[1;32m    302\u001b[0m         \u001b[39m\"\u001b[39m\u001b[39mcorresponding NumPy scalar.\u001b[39m\u001b[39m\"\u001b[39m, \u001b[39mFutureWarning\u001b[39;00m, stacklevel\u001b[39m=\u001b[39m\u001b[39m2\u001b[39m)\n\u001b[1;32m    304\u001b[0m \u001b[39mif\u001b[39;00m attr \u001b[39min\u001b[39;00m __former_attrs__:\n\u001b[0;32m--> 305\u001b[0m     \u001b[39mraise\u001b[39;00m \u001b[39mAttributeError\u001b[39;00m(__former_attrs__[attr])\n\u001b[1;32m    307\u001b[0m \u001b[39m# Importing Tester requires importing all of UnitTest which is not a\u001b[39;00m\n\u001b[1;32m    308\u001b[0m \u001b[39m# cheap import Since it is mainly used in test suits, we lazy import it\u001b[39;00m\n\u001b[1;32m    309\u001b[0m \u001b[39m# here to save on the order of 10 ms of import time for most users\u001b[39;00m\n\u001b[1;32m    310\u001b[0m \u001b[39m#\u001b[39;00m\n\u001b[1;32m    311\u001b[0m \u001b[39m# The previous way Tester was imported also had a side effect of adding\u001b[39;00m\n\u001b[1;32m    312\u001b[0m \u001b[39m# the full `numpy.testing` namespace\u001b[39;00m\n\u001b[1;32m    313\u001b[0m \u001b[39mif\u001b[39;00m attr \u001b[39m==\u001b[39m \u001b[39m'\u001b[39m\u001b[39mtesting\u001b[39m\u001b[39m'\u001b[39m:\n",
            "\u001b[0;31mAttributeError\u001b[0m: module 'numpy' has no attribute 'bool'.\n`np.bool` was a deprecated alias for the builtin `bool`. To avoid this error in existing code, use `bool` by itself. Doing this will not modify any behavior and is safe. If you specifically wanted the numpy scalar type, use `np.bool_` here.\nThe aliases was originally deprecated in NumPy 1.20; for more details and guidance see the original release note at:\n    https://numpy.org/devdocs/release/1.20.0-notes.html#deprecations"
          ]
        }
      ],
      "source": [
        "import torch\n",
        "# import torch.distributions as dist\n",
        "import os\n",
        "import shutil\n",
        "import argparse\n",
        "from tqdm import tqdm\n",
        "import time\n",
        "from collections import defaultdict\n",
        "import pandas as pd\n",
        "from im2mesh import config\n",
        "from im2mesh.checkpoints import CheckpointIO\n",
        "from im2mesh.utils.io import export_pointcloud\n",
        "from im2mesh.utils.visualize import visualize_data\n",
        "from im2mesh.utils.voxels import VoxelGrid"
      ]
    },
    {
      "cell_type": "code",
      "execution_count": null,
      "metadata": {},
      "outputs": [],
      "source": []
    }
  ],
  "metadata": {
    "accelerator": "GPU",
    "colab": {
      "provenance": []
    },
    "kernelspec": {
      "display_name": "ndf",
      "language": "python",
      "name": "python3"
    },
    "language_info": {
      "codemirror_mode": {
        "name": "ipython",
        "version": 3
      },
      "file_extension": ".py",
      "mimetype": "text/x-python",
      "name": "python",
      "nbconvert_exporter": "python",
      "pygments_lexer": "ipython3",
      "version": "3.9.0"
    },
    "vscode": {
      "interpreter": {
        "hash": "9f2931154541818afa820ceede70fe92c2d3c36484f8d34c20d53e7c594d681a"
      }
    }
  },
  "nbformat": 4,
  "nbformat_minor": 0
}
